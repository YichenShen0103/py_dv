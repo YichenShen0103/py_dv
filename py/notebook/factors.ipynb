{
 "cells": [
  {
   "cell_type": "code",
   "execution_count": 1,
   "metadata": {},
   "outputs": [],
   "source": [
    "import pandas as pd\n",
    "import numpy as np\n",
    "import matplotlib.pyplot as plt\n",
    "import os\n",
    "from pyecharts.charts import *\n",
    "from pyecharts.options import global_options\n",
    "import pyecharts.options as opts\n",
    "\n",
    "%matplotlib inline\n",
    "root=os.path.abspath(\"../..\")"
   ]
  },
  {
   "cell_type": "code",
   "execution_count": 2,
   "metadata": {},
   "outputs": [
    {
     "data": {
      "text/html": [
       "<div>\n",
       "<style scoped>\n",
       "    .dataframe tbody tr th:only-of-type {\n",
       "        vertical-align: middle;\n",
       "    }\n",
       "\n",
       "    .dataframe tbody tr th {\n",
       "        vertical-align: top;\n",
       "    }\n",
       "\n",
       "    .dataframe thead th {\n",
       "        text-align: right;\n",
       "    }\n",
       "</style>\n",
       "<table border=\"1\" class=\"dataframe\">\n",
       "  <thead>\n",
       "    <tr style=\"text-align: right;\">\n",
       "      <th></th>\n",
       "      <th>Age</th>\n",
       "    </tr>\n",
       "  </thead>\n",
       "  <tbody>\n",
       "    <tr>\n",
       "      <th>count</th>\n",
       "      <td>95.000000</td>\n",
       "    </tr>\n",
       "    <tr>\n",
       "      <th>mean</th>\n",
       "      <td>23.652632</td>\n",
       "    </tr>\n",
       "    <tr>\n",
       "      <th>std</th>\n",
       "      <td>3.551351</td>\n",
       "    </tr>\n",
       "    <tr>\n",
       "      <th>min</th>\n",
       "      <td>16.000000</td>\n",
       "    </tr>\n",
       "    <tr>\n",
       "      <th>25%</th>\n",
       "      <td>21.500000</td>\n",
       "    </tr>\n",
       "    <tr>\n",
       "      <th>50%</th>\n",
       "      <td>24.000000</td>\n",
       "    </tr>\n",
       "    <tr>\n",
       "      <th>75%</th>\n",
       "      <td>26.000000</td>\n",
       "    </tr>\n",
       "    <tr>\n",
       "      <th>max</th>\n",
       "      <td>34.000000</td>\n",
       "    </tr>\n",
       "  </tbody>\n",
       "</table>\n",
       "</div>"
      ],
      "text/plain": [
       "             Age\n",
       "count  95.000000\n",
       "mean   23.652632\n",
       "std     3.551351\n",
       "min    16.000000\n",
       "25%    21.500000\n",
       "50%    24.000000\n",
       "75%    26.000000\n",
       "max    34.000000"
      ]
     },
     "execution_count": 2,
     "metadata": {},
     "output_type": "execute_result"
    }
   ],
   "source": [
    "df=pd.read_csv(root+'\\\\data\\\\factors\\\\Psychosocial_Health_Analysis.csv')\n",
    "df.dropna(inplace=True)\n",
    "df['problem_category'] = df['problem_category'].str.strip()\n",
    "df['problem_category'] = df['problem_category'].str.lower()\n",
    "df.describe()"
   ]
  },
  {
   "cell_type": "code",
   "execution_count": 3,
   "metadata": {},
   "outputs": [
    {
     "name": "stdout",
     "output_type": "stream",
     "text": [
      "{'financial': 4, 'relationship': 39, 'self-esteem': 5, 'family': 8, 'communication': 3, 'legal': 3, 'cultural': 2, 'love': 1, 'marital': 3, 'educational': 1, 'trust': 1, 'mental health': 6, 'health disclosure issue': 1, 'social': 2, 'motor coordination difficulties': 1, 'emotional': 4, 'physical': 2, 'anxiety': 4, 'stress': 4, 'adolescent': 1}\n"
     ]
    }
   ],
   "source": [
    "pblm=dict()\n",
    "for i in df.index:\n",
    "    pbl=df.at[i,'problem_category']\n",
    "    if pbl not in pblm:\n",
    "        pblm[pbl]=1\n",
    "    else:\n",
    "        pblm[pbl]+=1\n",
    "print(pblm)"
   ]
  },
  {
   "cell_type": "code",
   "execution_count": 4,
   "metadata": {},
   "outputs": [
    {
     "name": "stderr",
     "output_type": "stream",
     "text": [
      "d:\\anaconda3\\Lib\\site-packages\\pyecharts\\charts\\chart.py:14: PendingDeprecationWarning: pyecharts 所有图表类型将在 v1.9.0 版本开始强制使用 ChartItem 进行数据项配置 :)\n",
      "  super().__init__(init_opts=init_opts)\n"
     ]
    }
   ],
   "source": [
    "new_pblm = sorted(pblm.items(),  key=lambda d: d[1], reverse=True)\n",
    " \n",
    "pie = (\n",
    "    Pie(init_opts=opts.InitOpts(width='1280px', height='720px'))\n",
    "    .set_global_opts(\n",
    "        title_opts=opts.TitleOpts(title=\"焦虑抑郁患者因素分析\"),\n",
    "        legend_opts=opts.LegendOpts(pos_left=\"15%\"),\n",
    "    )\n",
    "    .add(series_name='', data_pair=[pair for pair in new_pblm])\n",
    "    .set_series_opts(label_opts=opts.LabelOpts(formatter=\"{b}:{c}\"))\n",
    "    .render(root+\"\\\\result\\\\factors.html\")\n",
    ")"
   ]
  }
 ],
 "metadata": {
  "kernelspec": {
   "display_name": "base",
   "language": "python",
   "name": "python3"
  },
  "language_info": {
   "codemirror_mode": {
    "name": "ipython",
    "version": 3
   },
   "file_extension": ".py",
   "mimetype": "text/x-python",
   "name": "python",
   "nbconvert_exporter": "python",
   "pygments_lexer": "ipython3",
   "version": "3.11.5"
  }
 },
 "nbformat": 4,
 "nbformat_minor": 2
}
