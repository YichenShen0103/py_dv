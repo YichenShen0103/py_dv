{
 "cells": [
  {
   "cell_type": "code",
   "execution_count": 1,
   "metadata": {},
   "outputs": [
    {
     "name": "stdout",
     "output_type": "stream",
     "text": [
      "1.8.1\n"
     ]
    }
   ],
   "source": [
    "import pandas as pd\n",
    "import os\n",
    "from scipy import stats\n",
    "from pyecharts.charts import *\n",
    "from pyecharts.options import global_options\n",
    "from pyecharts import options as opts\n",
    "import numpy as np\n",
    "import pyecharts\n",
    "print(pyecharts.__version__)\n"
   ]
  },
  {
   "cell_type": "code",
   "execution_count": 2,
   "metadata": {},
   "outputs": [],
   "source": [
    "root=os.path.abspath(\"../..\")"
   ]
  },
  {
   "cell_type": "code",
   "execution_count": 3,
   "metadata": {},
   "outputs": [
    {
     "name": "stderr",
     "output_type": "stream",
     "text": [
      "C:\\Users\\14253\\AppData\\Local\\Temp\\ipykernel_19756\\2461479789.py:11: SettingWithCopyWarning: \n",
      "A value is trying to be set on a copy of a slice from a DataFrame\n",
      "\n",
      "See the caveats in the documentation: https://pandas.pydata.org/pandas-docs/stable/user_guide/indexing.html#returning-a-view-versus-a-copy\n",
      "  dfAge.drop(columns=['Year','Anxiety disorders (share of population) - Sex: Both - Age: All ages',\n"
     ]
    },
    {
     "data": {
      "text/html": [
       "<div>\n",
       "<style scoped>\n",
       "    .dataframe tbody tr th:only-of-type {\n",
       "        vertical-align: middle;\n",
       "    }\n",
       "\n",
       "    .dataframe tbody tr th {\n",
       "        vertical-align: top;\n",
       "    }\n",
       "\n",
       "    .dataframe thead th {\n",
       "        text-align: right;\n",
       "    }\n",
       "</style>\n",
       "<table border=\"1\" class=\"dataframe\">\n",
       "  <thead>\n",
       "    <tr style=\"text-align: right;\">\n",
       "      <th></th>\n",
       "      <th>p1</th>\n",
       "      <th>p2</th>\n",
       "      <th>p3</th>\n",
       "      <th>p4</th>\n",
       "      <th>p5</th>\n",
       "      <th>p6</th>\n",
       "      <th>p7</th>\n",
       "      <th>p8</th>\n",
       "      <th>p9</th>\n",
       "      <th>p10</th>\n",
       "      <th>p11</th>\n",
       "      <th>p12</th>\n",
       "      <th>p13</th>\n",
       "    </tr>\n",
       "    <tr>\n",
       "      <th>Entity</th>\n",
       "      <th></th>\n",
       "      <th></th>\n",
       "      <th></th>\n",
       "      <th></th>\n",
       "      <th></th>\n",
       "      <th></th>\n",
       "      <th></th>\n",
       "      <th></th>\n",
       "      <th></th>\n",
       "      <th></th>\n",
       "      <th></th>\n",
       "      <th></th>\n",
       "      <th></th>\n",
       "    </tr>\n",
       "  </thead>\n",
       "  <tbody>\n",
       "    <tr>\n",
       "      <th>China</th>\n",
       "      <td>3.25</td>\n",
       "      <td>4.81</td>\n",
       "      <td>3.81</td>\n",
       "      <td>3.32</td>\n",
       "      <td>3.25</td>\n",
       "      <td>3.36</td>\n",
       "      <td>3.56</td>\n",
       "      <td>3.72</td>\n",
       "      <td>3.87</td>\n",
       "      <td>4.01</td>\n",
       "      <td>4.16</td>\n",
       "      <td>4.32</td>\n",
       "      <td>4.64</td>\n",
       "    </tr>\n",
       "    <tr>\n",
       "      <th>United States</th>\n",
       "      <td>2.26</td>\n",
       "      <td>5.41</td>\n",
       "      <td>7.16</td>\n",
       "      <td>8.16</td>\n",
       "      <td>8.66</td>\n",
       "      <td>8.91</td>\n",
       "      <td>8.94</td>\n",
       "      <td>8.59</td>\n",
       "      <td>7.96</td>\n",
       "      <td>7.19</td>\n",
       "      <td>6.40</td>\n",
       "      <td>5.85</td>\n",
       "      <td>4.94</td>\n",
       "    </tr>\n",
       "  </tbody>\n",
       "</table>\n",
       "</div>"
      ],
      "text/plain": [
       "                 p1    p2    p3    p4    p5    p6    p7    p8    p9   p10  \\\n",
       "Entity                                                                      \n",
       "China          3.25  4.81  3.81  3.32  3.25  3.36  3.56  3.72  3.87  4.01   \n",
       "United States  2.26  5.41  7.16  8.16  8.66  8.91  8.94  8.59  7.96  7.19   \n",
       "\n",
       "                p11   p12   p13  \n",
       "Entity                           \n",
       "China          4.16  4.32  4.64  \n",
       "United States  6.40  5.85  4.94  "
      ]
     },
     "execution_count": 3,
     "metadata": {},
     "output_type": "execute_result"
    }
   ],
   "source": [
    "#以下模块用于处理焦虑症发病率随年龄的变化趋势\n",
    "df_age = pd.read_csv(root+'\\\\data\\\\prevalence\\\\anxiety-disorders-prevalence-by-age.csv')\n",
    "count=0\n",
    "for i in df_age.columns[3:16]:\n",
    "    count+=1\n",
    "    df_age.rename(columns={i:'p'+str(count)},\n",
    "                  inplace=True)\n",
    "df_g=df_age.drop('Code',axis=1).groupby('Entity',as_index=False).mean()\n",
    "dfAge=df_g[(df_g['Entity']=='China') | (df_g['Entity']=='United States')]\n",
    "dfAge.set_index('Entity',inplace=True)\n",
    "dfAge.drop(columns=['Year','Anxiety disorders (share of population) - Sex: Both - Age: All ages',\n",
    "                    'Anxiety disorders (share of population) - Sex: Both - Age: Age-standardized'],\n",
    "           axis=1,\n",
    "           inplace=True)\n",
    "formater=\"{0:.02f}\".format\n",
    "\n",
    "dfAge = dfAge.applymap(formater)\n",
    "dfAge\n"
   ]
  },
  {
   "cell_type": "code",
   "execution_count": 4,
   "metadata": {},
   "outputs": [
    {
     "name": "stderr",
     "output_type": "stream",
     "text": [
      "d:\\anaconda3\\Lib\\site-packages\\pyecharts\\charts\\chart.py:14: PendingDeprecationWarning: pyecharts 所有图表类型将在 v1.9.0 版本开始强制使用 ChartItem 进行数据项配置 :)\n",
      "  super().__init__(init_opts=init_opts)\n"
     ]
    }
   ],
   "source": [
    "x=['5-14','15-19','19-24','25-29','30-34','35-39','40-44','45-49','50-54','55-59','60-64','65-69','70+']\n",
    "y1=dfAge.values[0].tolist()\n",
    "y2=dfAge.values[1].tolist()\n",
    "\n",
    "bar = Bar()\n",
    " \n",
    "bar.set_global_opts(title_opts=global_options.TitleOpts(title=\"各年龄段焦虑发病率\"))\n",
    "bar.add_xaxis(x)\n",
    "bar.add_yaxis(\"China\", y1, stack=\"stack1\")\n",
    "bar.add_yaxis(\"United States\", y2, stack=\"stack2\")\n",
    " \n",
    "try:\n",
    "    bar.render(root+\"\\\\result\\\\age.html\")\n",
    "except:\n",
    "    os.mkdir(root+\"\\\\result\")\n",
    "    bar.render(root+\"\\\\result\\\\age.html\")\n"
   ]
  },
  {
   "cell_type": "code",
   "execution_count": 5,
   "metadata": {},
   "outputs": [
    {
     "data": {
      "text/html": [
       "<div>\n",
       "<style scoped>\n",
       "    .dataframe tbody tr th:only-of-type {\n",
       "        vertical-align: middle;\n",
       "    }\n",
       "\n",
       "    .dataframe tbody tr th {\n",
       "        vertical-align: top;\n",
       "    }\n",
       "\n",
       "    .dataframe thead th {\n",
       "        text-align: right;\n",
       "    }\n",
       "</style>\n",
       "<table border=\"1\" class=\"dataframe\">\n",
       "  <thead>\n",
       "    <tr style=\"text-align: right;\">\n",
       "      <th></th>\n",
       "      <th>Male</th>\n",
       "      <th>Female</th>\n",
       "    </tr>\n",
       "    <tr>\n",
       "      <th>Entity</th>\n",
       "      <th></th>\n",
       "      <th></th>\n",
       "    </tr>\n",
       "  </thead>\n",
       "  <tbody>\n",
       "    <tr>\n",
       "      <th>China</th>\n",
       "      <td>2.61</td>\n",
       "      <td>4.24</td>\n",
       "    </tr>\n",
       "    <tr>\n",
       "      <th>United States</th>\n",
       "      <td>4.43</td>\n",
       "      <td>7.28</td>\n",
       "    </tr>\n",
       "  </tbody>\n",
       "</table>\n",
       "</div>"
      ],
      "text/plain": [
       "               Male Female\n",
       "Entity                    \n",
       "China          2.61   4.24\n",
       "United States  4.43   7.28"
      ]
     },
     "execution_count": 5,
     "metadata": {},
     "output_type": "execute_result"
    }
   ],
   "source": [
    "#以下模块用于分析性别因素\n",
    "\n",
    "df_gender=pd.read_csv(root+'\\\\data\\\\prevalence\\\\anxiety-disorders-prevalence-males-vs-females.csv')\n",
    "df_gender.rename(columns={'Anxiety disorders (share of population) - Sex: Male - Age: All ages':'Male', \n",
    "                          'Anxiety disorders (share of population) - Sex: Female - Age: Age-standardized':'Female'},\n",
    "                 inplace=True)\n",
    "df_gender.head()\n",
    "\n",
    "df_gender=df_gender.drop(columns=['Year','Population (historical estimates)','Continent','Code'],\n",
    "                         axis=1)\n",
    "df_gender=df_gender.groupby('Entity',\n",
    "                            as_index=False).mean()\n",
    "dfGen=df_gender[(df_gender['Entity']=='China') | (df_gender['Entity']=='United States')]\n",
    "dfGen.set_index('Entity',\n",
    "                inplace=True)\n",
    "\n",
    "dfGen = dfGen.applymap(formater)#formater 的定义在上方\n",
    "dfGen"
   ]
  },
  {
   "cell_type": "code",
   "execution_count": 6,
   "metadata": {},
   "outputs": [
    {
     "name": "stderr",
     "output_type": "stream",
     "text": [
      "d:\\anaconda3\\Lib\\site-packages\\pyecharts\\charts\\chart.py:14: PendingDeprecationWarning: pyecharts 所有图表类型将在 v1.9.0 版本开始强制使用 ChartItem 进行数据项配置 :)\n",
      "  super().__init__(init_opts=init_opts)\n"
     ]
    }
   ],
   "source": [
    "y1=dfGen['Male'].tolist()\n",
    "y2=dfGen[\"Female\"].tolist()\n",
    "c = (\n",
    "    Scatter()\n",
    "    .add_xaxis(['China',\"America\"])\n",
    "    .add_yaxis(\"Female\", y2)\n",
    "    .add_yaxis(\"Male\", y1)\n",
    "    \n",
    "    .set_global_opts(\n",
    "        title_opts=opts.TitleOpts(title=\"焦虑症患病率与性别的关系\"),\n",
    "        xaxis_opts=opts.AxisOpts(splitline_opts=opts.SplitLineOpts(is_show=True)),\n",
    "        yaxis_opts=opts.AxisOpts(splitline_opts=opts.SplitLineOpts(is_show=True)),\n",
    "        visualmap_opts=opts.VisualMapOpts(\n",
    "            type_=\"size\",  #映射大小\n",
    "            max_=8,\n",
    "            min_=2,\n",
    "            pos_bottom = 50,pos_right = 0)\n",
    "    )\n",
    "    .render(root+\"\\\\result\\\\gender.html\")\n",
    ")"
   ]
  },
  {
   "cell_type": "code",
   "execution_count": 7,
   "metadata": {},
   "outputs": [
    {
     "data": {
      "text/html": [
       "<div>\n",
       "<style scoped>\n",
       "    .dataframe tbody tr th:only-of-type {\n",
       "        vertical-align: middle;\n",
       "    }\n",
       "\n",
       "    .dataframe tbody tr th {\n",
       "        vertical-align: top;\n",
       "    }\n",
       "\n",
       "    .dataframe thead th {\n",
       "        text-align: right;\n",
       "    }\n",
       "</style>\n",
       "<table border=\"1\" class=\"dataframe\">\n",
       "  <thead>\n",
       "    <tr style=\"text-align: right;\">\n",
       "      <th></th>\n",
       "      <th>Entity</th>\n",
       "      <th>Anxiety</th>\n",
       "      <th>GDP</th>\n",
       "    </tr>\n",
       "  </thead>\n",
       "  <tbody>\n",
       "    <tr>\n",
       "      <th>30</th>\n",
       "      <td>Afghanistan</td>\n",
       "      <td>4.851035</td>\n",
       "      <td>2079.9219</td>\n",
       "    </tr>\n",
       "    <tr>\n",
       "      <th>655</th>\n",
       "      <td>Albania</td>\n",
       "      <td>3.837537</td>\n",
       "      <td>13653.2490</td>\n",
       "    </tr>\n",
       "    <tr>\n",
       "      <th>915</th>\n",
       "      <td>Algeria</td>\n",
       "      <td>4.771976</td>\n",
       "      <td>11627.2800</td>\n",
       "    </tr>\n",
       "    <tr>\n",
       "      <th>1578</th>\n",
       "      <td>Angola</td>\n",
       "      <td>3.934095</td>\n",
       "      <td>6602.2690</td>\n",
       "    </tr>\n",
       "    <tr>\n",
       "      <th>1963</th>\n",
       "      <td>Antigua and Barbuda</td>\n",
       "      <td>4.334173</td>\n",
       "      <td>23638.6860</td>\n",
       "    </tr>\n",
       "  </tbody>\n",
       "</table>\n",
       "</div>"
      ],
      "text/plain": [
       "                   Entity   Anxiety         GDP\n",
       "30            Afghanistan  4.851035   2079.9219\n",
       "655               Albania  3.837537  13653.2490\n",
       "915               Algeria  4.771976  11627.2800\n",
       "1578               Angola  3.934095   6602.2690\n",
       "1963  Antigua and Barbuda  4.334173  23638.6860"
      ]
     },
     "execution_count": 7,
     "metadata": {},
     "output_type": "execute_result"
    }
   ],
   "source": [
    "#以下模块用于处理焦虑患病率和国家gdp关系\n",
    "df_gdp=pd.read_csv(root+'\\\\data\\\\prevalence\\\\anxiety-disorders-prevalence-vs-gdp.csv')\n",
    "df_gdp.rename(columns={'Anxiety disorders (share of population) - Sex: Both - Age: Age-standardized':'Anxiety',\n",
    "                       'GDP per capita, PPP (constant 2017 international $)':'GDP',\n",
    "                       },inplace=True)\n",
    "df_gdp.drop(columns=['Code','Population (historical estimates)','Continent'],inplace=True)\n",
    "df_gdp.dropna(inplace=True)\n",
    "df_gdp=df_gdp[df_gdp[\"Year\"]==2019].drop(columns=[\"Year\"])\n",
    "df_gdp.head()"
   ]
  },
  {
   "cell_type": "code",
   "execution_count": 8,
   "metadata": {},
   "outputs": [
    {
     "name": "stderr",
     "output_type": "stream",
     "text": [
      "d:\\anaconda3\\Lib\\site-packages\\pyecharts\\charts\\chart.py:14: PendingDeprecationWarning: pyecharts 所有图表类型将在 v1.9.0 版本开始强制使用 ChartItem 进行数据项配置 :)\n",
      "  super().__init__(init_opts=init_opts)\n"
     ]
    }
   ],
   "source": [
    "#地图制作\n",
    "x=df_gdp['Entity']\n",
    "y=df_gdp['Anxiety']\n",
    "value = list(y)\n",
    "attr = list(x)\n",
    " \n",
    "data = []\n",
    "for index in range(len(attr)):\n",
    "    city_ionfo=[attr[index],value[index]]\n",
    "    data.append(city_ionfo)\n",
    " \n",
    "map = (\n",
    "    Map()\n",
    "    .add(\"焦虑指数\",data, \"world\")\n",
    "    .set_series_opts(label_opts=opts.LabelOpts(is_show=False))\n",
    "    .set_global_opts(\n",
    "        title_opts=opts.TitleOpts(title=\"世界热力地图\"),\n",
    "        visualmap_opts=opts.VisualMapOpts(max_=df_gdp['Anxiety'].max(), \n",
    "                                          min_=df_gdp['Anxiety'].min()\n",
    "                                          ),\n",
    "    )\n",
    "    .render(root+'\\\\result\\\\map.html')\n",
    ")"
   ]
  },
  {
   "cell_type": "code",
   "execution_count": 9,
   "metadata": {},
   "outputs": [
    {
     "data": {
      "text/plain": [
       "TtestResult(statistic=13.801697241603362, pvalue=1.6474866516880435e-30, df=191.00000102362645)"
      ]
     },
     "execution_count": 9,
     "metadata": {},
     "output_type": "execute_result"
    }
   ],
   "source": [
    "#数学检验\n",
    "stats.ttest_ind(df_gdp['GDP'],df_gdp['Anxiety'],equal_var=False)"
   ]
  },
  {
   "cell_type": "code",
   "execution_count": 10,
   "metadata": {},
   "outputs": [
    {
     "name": "stderr",
     "output_type": "stream",
     "text": [
      "d:\\anaconda3\\Lib\\site-packages\\pyecharts\\charts\\chart.py:14: PendingDeprecationWarning: pyecharts 所有图表类型将在 v1.9.0 版本开始强制使用 ChartItem 进行数据项配置 :)\n",
      "  super().__init__(init_opts=init_opts)\n"
     ]
    }
   ],
   "source": [
    "# 数据准备\n",
    "x = df_gdp['GDP'].tolist()\n",
    "y = df_gdp['Anxiety'].tolist()\n",
    "\n",
    "# 创建散点图\n",
    "scatter = (\n",
    "    Scatter()\n",
    "    .add_xaxis(x)\n",
    "    .add_yaxis(\n",
    "        series_name=\"焦虑指数\",\n",
    "        y_axis=y,\n",
    "        symbol_size=20,\n",
    "        label_opts=opts.LabelOpts(is_show=False),\n",
    "    )\n",
    "    .set_global_opts(\n",
    "        title_opts=opts.TitleOpts(title=\"焦虑指数与GDP的关系\"),\n",
    "    )\n",
    "    .render(root+\"\\\\result\\\\gdp.html\")\n",
    ")\n"
   ]
  }
 ],
 "metadata": {
  "kernelspec": {
   "display_name": "base",
   "language": "python",
   "name": "python3"
  },
  "language_info": {
   "codemirror_mode": {
    "name": "ipython",
    "version": 3
   },
   "file_extension": ".py",
   "mimetype": "text/x-python",
   "name": "python",
   "nbconvert_exporter": "python",
   "pygments_lexer": "ipython3",
   "version": "3.11.5"
  }
 },
 "nbformat": 4,
 "nbformat_minor": 2
}
