{
 "cells": [
  {
   "cell_type": "code",
   "execution_count": 2,
   "metadata": {},
   "outputs": [
    {
     "name": "stdout",
     "output_type": "stream",
     "text": [
      "1.8.1\n"
     ]
    }
   ],
   "source": [
    "import pandas as pd\n",
    "import matplotlib.pyplot as plt\n",
    "import os\n",
    "\n",
    "from pyecharts.charts import *\n",
    "from pyecharts.options import global_options\n",
    "\n",
    "import pyecharts\n",
    "print(pyecharts.__version__)\n"
   ]
  },
  {
   "cell_type": "code",
   "execution_count": 3,
   "metadata": {},
   "outputs": [],
   "source": [
    "root=os.path.abspath(\"../..\")"
   ]
  },
  {
   "cell_type": "code",
   "execution_count": 15,
   "metadata": {},
   "outputs": [
    {
     "name": "stderr",
     "output_type": "stream",
     "text": [
      "C:\\Users\\14253\\AppData\\Local\\Temp\\ipykernel_11304\\521413715.py:10: SettingWithCopyWarning: \n",
      "A value is trying to be set on a copy of a slice from a DataFrame\n",
      "\n",
      "See the caveats in the documentation: https://pandas.pydata.org/pandas-docs/stable/user_guide/indexing.html#returning-a-view-versus-a-copy\n",
      "  dfAge.drop(columns=['Year','Anxiety disorders (share of population) - Sex: Both - Age: All ages','Anxiety disorders (share of population) - Sex: Both - Age: Age-standardized'],axis=1,inplace=True)\n"
     ]
    },
    {
     "data": {
      "text/html": [
       "<div>\n",
       "<style scoped>\n",
       "    .dataframe tbody tr th:only-of-type {\n",
       "        vertical-align: middle;\n",
       "    }\n",
       "\n",
       "    .dataframe tbody tr th {\n",
       "        vertical-align: top;\n",
       "    }\n",
       "\n",
       "    .dataframe thead th {\n",
       "        text-align: right;\n",
       "    }\n",
       "</style>\n",
       "<table border=\"1\" class=\"dataframe\">\n",
       "  <thead>\n",
       "    <tr style=\"text-align: right;\">\n",
       "      <th></th>\n",
       "      <th>p1</th>\n",
       "      <th>p2</th>\n",
       "      <th>p3</th>\n",
       "      <th>p4</th>\n",
       "      <th>p5</th>\n",
       "      <th>p6</th>\n",
       "      <th>p7</th>\n",
       "      <th>p8</th>\n",
       "      <th>p9</th>\n",
       "      <th>p10</th>\n",
       "      <th>p11</th>\n",
       "      <th>p12</th>\n",
       "      <th>p13</th>\n",
       "    </tr>\n",
       "    <tr>\n",
       "      <th>Entity</th>\n",
       "      <th></th>\n",
       "      <th></th>\n",
       "      <th></th>\n",
       "      <th></th>\n",
       "      <th></th>\n",
       "      <th></th>\n",
       "      <th></th>\n",
       "      <th></th>\n",
       "      <th></th>\n",
       "      <th></th>\n",
       "      <th></th>\n",
       "      <th></th>\n",
       "      <th></th>\n",
       "    </tr>\n",
       "  </thead>\n",
       "  <tbody>\n",
       "    <tr>\n",
       "      <th>China</th>\n",
       "      <td>3.25</td>\n",
       "      <td>4.81</td>\n",
       "      <td>3.81</td>\n",
       "      <td>3.32</td>\n",
       "      <td>3.25</td>\n",
       "      <td>3.36</td>\n",
       "      <td>3.56</td>\n",
       "      <td>3.72</td>\n",
       "      <td>3.87</td>\n",
       "      <td>4.01</td>\n",
       "      <td>4.16</td>\n",
       "      <td>4.32</td>\n",
       "      <td>4.64</td>\n",
       "    </tr>\n",
       "    <tr>\n",
       "      <th>United States</th>\n",
       "      <td>2.26</td>\n",
       "      <td>5.41</td>\n",
       "      <td>7.16</td>\n",
       "      <td>8.16</td>\n",
       "      <td>8.66</td>\n",
       "      <td>8.91</td>\n",
       "      <td>8.94</td>\n",
       "      <td>8.59</td>\n",
       "      <td>7.96</td>\n",
       "      <td>7.19</td>\n",
       "      <td>6.40</td>\n",
       "      <td>5.85</td>\n",
       "      <td>4.94</td>\n",
       "    </tr>\n",
       "  </tbody>\n",
       "</table>\n",
       "</div>"
      ],
      "text/plain": [
       "                 p1    p2    p3    p4    p5    p6    p7    p8    p9   p10  \\\n",
       "Entity                                                                      \n",
       "China          3.25  4.81  3.81  3.32  3.25  3.36  3.56  3.72  3.87  4.01   \n",
       "United States  2.26  5.41  7.16  8.16  8.66  8.91  8.94  8.59  7.96  7.19   \n",
       "\n",
       "                p11   p12   p13  \n",
       "Entity                           \n",
       "China          4.16  4.32  4.64  \n",
       "United States  6.40  5.85  4.94  "
      ]
     },
     "execution_count": 15,
     "metadata": {},
     "output_type": "execute_result"
    }
   ],
   "source": [
    "#以下模块用于处理焦虑症发病率随年龄的变化趋势\n",
    "df_age = pd.read_csv(root+'\\\\data\\\\prevalence\\\\anxiety-disorders-prevalence-by-age.csv')\n",
    "count=0\n",
    "for i in df_age.columns[3:16]:\n",
    "    count+=1\n",
    "    df_age.rename(columns={i:'p'+str(count)},inplace=True)\n",
    "df_g=df_age.drop('Code',axis=1).groupby('Entity',as_index=False).mean()\n",
    "dfAge=df_g[(df_g['Entity']=='China') | (df_g['Entity']=='United States')]\n",
    "dfAge.set_index('Entity',inplace=True)\n",
    "dfAge.drop(columns=['Year','Anxiety disorders (share of population) - Sex: Both - Age: All ages','Anxiety disorders (share of population) - Sex: Both - Age: Age-standardized'],axis=1,inplace=True)\n",
    "formater=\"{0:.02f}\".format\n",
    "\n",
    "dfAge = dfAge.applymap(formater)\n",
    "dfAge\n"
   ]
  },
  {
   "cell_type": "code",
   "execution_count": 16,
   "metadata": {},
   "outputs": [
    {
     "name": "stderr",
     "output_type": "stream",
     "text": [
      "d:\\anaconda3\\Lib\\site-packages\\pyecharts\\charts\\chart.py:14: PendingDeprecationWarning: pyecharts 所有图表类型将在 v1.9.0 版本开始强制使用 ChartItem 进行数据项配置 :)\n",
      "  super().__init__(init_opts=init_opts)\n"
     ]
    },
    {
     "data": {
      "text/plain": [
       "'d:\\\\code\\\\py_dv\\\\py\\\\notebook\\\\render.html'"
      ]
     },
     "execution_count": 16,
     "metadata": {},
     "output_type": "execute_result"
    }
   ],
   "source": [
    "#可视化\n",
    "x=['5-14','15-19','19-24','25-29','30-34','35-39','40-44','45-49','50-54','55-59','60-64','65-69','70+']\n",
    "y1=dfAge.values[0].tolist()\n",
    "y2=dfAge.values[1]\n",
    "\n",
    "bar = Bar()\n",
    " \n",
    "bar.set_global_opts(title_opts=global_options.TitleOpts(title=\"商家A销售情况\"))\n",
    "bar.add_xaxis(x)\n",
    "bar.add_yaxis(\"CHN\", y1, stack=\"stack1\")\n",
    " \n",
    "bar.render()\n"
   ]
  }
 ],
 "metadata": {
  "kernelspec": {
   "display_name": "base",
   "language": "python",
   "name": "python3"
  },
  "language_info": {
   "codemirror_mode": {
    "name": "ipython",
    "version": 3
   },
   "file_extension": ".py",
   "mimetype": "text/x-python",
   "name": "python",
   "nbconvert_exporter": "python",
   "pygments_lexer": "ipython3",
   "version": "3.11.5"
  }
 },
 "nbformat": 4,
 "nbformat_minor": 2
}
